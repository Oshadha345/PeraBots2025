{
 "cells": [
  {
   "cell_type": "markdown",
   "id": "7a932583",
   "metadata": {},
   "source": []
  }
 ],
 "metadata": {
  "language_info": {
   "name": "python"
  }
 },
 "nbformat": 4,
 "nbformat_minor": 5
}
